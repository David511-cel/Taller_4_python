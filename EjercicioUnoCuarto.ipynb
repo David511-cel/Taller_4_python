{
 "cells": [
  {
   "cell_type": "markdown",
   "metadata": {},
   "source": [
    "### La palabra de 100 puntos\n",
    "\n",
    "crea un prugrama que calcule los puntos de una palabra \n",
    "* Cada palabra tiene un valor asignado, por ejemplo, en el abecedario español de 27 letras, la A \"1\" y la Z \"27\".\n",
    "* El programa muestra el valor de los puntos de cada palabra introducida.\n",
    "* El programa finaliza si logras introducir una palabra de 100 puntos.\n",
    "* Puedes usar la terminal para interactuar con el usuario y solicitarle cada palabra.\n"
   ]
  },
  {
   "cell_type": "code",
   "execution_count": null,
   "metadata": {},
   "outputs": [
    {
     "name": "stdout",
     "output_type": "stream",
     "text": [
      "la palabra 'hola' vale :37 de puntos\n",
      "la palabra 'como estas' vale :115 de puntos\n",
      "!Atención¡, limite de caracteres alcanzado\n"
     ]
    }
   ],
   "source": [
    "alphabet= {'a': 1,'b': 2, 'c': 3, 'd': 4, 'e': 5, 'f': 6, 'g': 7,'h': 8, 'i': 9, 'j': 10, 'k':11, 'l':12,'m':13,'n':14,'ñ':15,'o':16,'p':17,'q':18,'r':19,'s':20,'t':21,'u':22,'v':23,'w':24,'x':25,'y':26,'z':27}\n",
    "def sum_punts(pl):\n",
    "    pnt=0\n",
    "    for text in pl.lower():\n",
    "        if text in alphabet:\n",
    "            pnt+=alphabet[text]\n",
    "    return pnt\n",
    "pnt_total=0\n",
    "while True:\n",
    "    pl=input(\"ingresa una palabra\")\n",
    "    pnt=sum_punts(pl)\n",
    "    print(f\"la palabra '{pl}' vale :  {pnt} de puntos\")\n",
    "    pnt_total+=pnt\n",
    "    if pnt_total>=100:\n",
    "        print(\"!Atención¡, limite de caracteres alcanzado\")\n",
    "        break"
   ]
  },
  {
   "cell_type": "markdown",
   "metadata": {},
   "source": [
    "### Simulador de clima\n",
    "\n",
    "* Crea una función que simule las condiciones climáticas (temperatura y probabilidad de lluvia) de un lugar ficticio al pasar un número concreto de días según estas reglas:\n",
    "\n",
    "*  La temperatura inicial y el % de probabilidad de lluvia lo define el usuario. Cada día que pasa:\n",
    "\n",
    "10% de posibilidades de que la temperatura aumente o disminuya 2 grados.\n",
    "\n",
    "Si la temperatura supera los 25 grados, la probabilidad de lluvia al dia siguiente aumenta en un 20%.\n",
    "\n",
    "Si la temperatura baja de 5 grados, la probabilidad de lluvia al día siguiente disminuya en un 20%.\n",
    "\n",
    "Si llueve (100%), la temperatura del día siguiente disminuye en 1 grado.\n",
    "\n",
    "La función recibe el número de días de la predicción y muestra la temperatura y si llueve durante todos esos días.\n",
    "\n",
    "* También mostrará la temperatura máxima y minima de ese periodo y cuántos dias va a llover.\n"
   ]
  },
  {
   "cell_type": "code",
   "execution_count": 10,
   "metadata": {},
   "outputs": [
    {
     "name": "stdout",
     "output_type": "stream",
     "text": [
      "El día lunes en popayan, la temperatura se mantiene en 29.\n"
     ]
    }
   ],
   "source": [
    "import random\n",
    "\n",
    "def forecast():\n",
    "    initial_temperature = int(input(\"Ingrese la temperatura: \"))\n",
    "    place = input(\"Ingrese el lugar: \")\n",
    "    days = ['lunes', 'martes', 'miércoles', 'jueves', 'viernes', 'sábado', 'domingo']\n",
    "    current_day = random.choice(days)\n",
    "    \n",
    "    change = 0\n",
    "    if random.random() < 0.1:  # 10% de probabilidad de cambio\n",
    "        change = 2 if random.random() < 0.5 else -2\n",
    "    \n",
    "    final_temperature = initial_temperature + change\n",
    "    \n",
    "    if change != 0:\n",
    "        print(f\"El día {current_day} en {place}, la temperatura ha cambiado de {initial_temperature} a {final_temperature}.\")\n",
    "    else:\n",
    "        print(f\"El día {current_day} en {place}, la temperatura se mantiene en {initial_temperature}.\")\n",
    "\n",
    "forecast()"
   ]
  },
  {
   "cell_type": "markdown",
   "metadata": {},
   "source": [
    "### El caracter infiltrado\n",
    "\n",
    "crea una funcion de reciba dos cadenas de texto casi iguales, a exepcion de uno o varios caracteres.\n",
    "* La funcion debe encontrarlos y retornarlos en formato lista\\array.\n",
    "* * Ambas cadenas de texto deben ser iguales en longitud.\n",
    "* * Las cadenas de texto son iguales elemento texto a texto.\n",
    "* * No se pueden utilizar operaciones propias del lenguaje que lo resuelvan directamente.\n",
    "\n",
    "* Ejemplo:\n",
    "* * Me llamo Moureved / Me llemo Moureved -> [\"e\", \"o\"].\n",
    "* * Me llamo.Brais Moure / Me llamo Brais Moure -> [\" \", \"b\", \"m\"]."
   ]
  },
  {
   "cell_type": "code",
   "execution_count": 7,
   "metadata": {},
   "outputs": [
    {
     "name": "stdout",
     "output_type": "stream",
     "text": [
      "['a', 'e']\n"
     ]
    }
   ],
   "source": [
    "def encontrar_diferencias(cadena1, cadena2):\n",
    "    if len(cadena1) != len(cadena2):\n",
    "        return \"Las cadenas deben tener la misma longitud\"\n",
    "\n",
    "    diferencias = []\n",
    "    for i in range(len(cadena1)):\n",
    "        if cadena1[i] != cadena2[i]:\n",
    "            diferencias.append(cadena1[i])\n",
    "            diferencias.append(cadena2[i])\n",
    "\n",
    "    return diferencias\n",
    "\n",
    "\n",
    "# Solicitar cadenas al usuario\n",
    "cadena1 = input(\"Ingrese la primera cadena: \")\n",
    "cadena2 = input(\"Ingrese la segunda cadena: \")\n",
    "\n",
    "# Llamar a la función y mostrar resultados\n",
    "print(encontrar_diferencias(cadena1, cadena2))"
   ]
  },
  {
   "cell_type": "code",
   "execution_count": 5,
   "metadata": {},
   "outputs": [
    {
     "name": "stdout",
     "output_type": "stream",
     "text": [
      "Caracteres diferentes: ['a', 'e']\n"
     ]
    }
   ],
   "source": [
    "def caracteres_diferentes(c1, c2):\n",
    "    if len(c1) != len(c2):\n",
    "        return \"Cadenas de diferentes longitudes\"\n",
    "    return [x for i, x in enumerate(c1) if x != c2[i]] + [x for i, x in enumerate(c2) if x != c1[i]]\n",
    "\n",
    "cadena1 = input(\"Ingrese la primera cadena: \")\n",
    "cadena2 = input(\"Ingrese la segunda cadena: \")\n",
    "\n",
    "print(\"Caracteres diferentes:\", caracteres_diferentes(cadena1, cadena2))"
   ]
  },
  {
   "cell_type": "code",
   "execution_count": null,
   "metadata": {},
   "outputs": [],
   "source": [
    "def encontrar_caracteres_infiltrados(cadena1, cadena2):\n",
    "    \"\"\"\n",
    "    Encuentra los caracteres que difieren entre dos cadenas de texto de igual longitud.\n",
    "\n",
    "    Args:\n",
    "        cadena1 (str): Primera cadena de texto.\n",
    "        cadena2 (str): Segunda cadena de texto.\n",
    "\n",
    "    Returns:\n",
    "        list: Lista de caracteres que difieren entre las dos cadenas.\n",
    "    \"\"\"\n",
    "    # Verificar si las cadenas tienen la misma longitud\n",
    "    if len(cadena1) != len(cadena2):\n",
    "        raise ValueError(\"Las cadenas deben tener la misma longitud\")\n",
    "\n",
    "    # Inicializar lista para almacenar caracteres infiltrados\n",
    "    caracteres_infiltrados = []\n",
    "\n",
    "    # Recorrer las cadenas caracter por caracter\n",
    "    for i in range(len(cadena1)):\n",
    "        # Verificar si los caracteres en la misma posición son diferentes\n",
    "        if cadena1[i] != cadena2[i]:\n",
    "            # Agregar caracteres infiltrados a la lista\n",
    "            caracteres_infiltrados.append(cadena1[i])\n",
    "            caracteres_infiltrados.append(cadena2[i])\n",
    "\n",
    "    return caracteres_infiltrados\n",
    "\n",
    "\n",
    "# Solicitar cadenas al usuario\n",
    "cadena1 = input(\"Ingrese la primera cadena: \")\n",
    "cadena2 = input(\"Ingrese la segunda cadena: \")\n",
    "\n",
    "# Llamar a la función y mostrar resultados\n",
    "try:\n",
    "    caracteres_infiltrados = encontrar_caracteres_infiltrados(cadena1, cadena2)\n",
    "    print(\"Caracteres infiltrados:\", caracteres_infiltrados)\n",
    "except ValueError as e:\n",
    "    print(\"Error:\", e)"
   ]
  },
  {
   "cell_type": "code",
   "execution_count": 4,
   "metadata": {},
   "outputs": [],
   "source": [
    "chain1=input(\"ingresa un caracter\")\n",
    "chain2=input(\"ingresa un segund0 caracter\")\n",
    "def infiltrated_character(chain1,chain2):\n",
    "    if len(chain1) != len(chain2):\n",
    "        return \"cadenas de diferentes longitudes\"\n",
    "    different=[]\n",
    "    i=0\n",
    "    while i<len(chain1) and i<len(chain2):\n",
    "        if chain1[i] != chain2[i]:\n",
    "            different.append(chain1[i])\n",
    "            different.append(chain2[i])\n",
    "        i += 1\n",
    "    return different\n"
   ]
  }
 ],
 "metadata": {
  "kernelspec": {
   "display_name": "Python 3",
   "language": "python",
   "name": "python3"
  },
  "language_info": {
   "codemirror_mode": {
    "name": "ipython",
    "version": 3
   },
   "file_extension": ".py",
   "mimetype": "text/x-python",
   "name": "python",
   "nbconvert_exporter": "python",
   "pygments_lexer": "ipython3",
   "version": "3.13.0"
  }
 },
 "nbformat": 4,
 "nbformat_minor": 2
}
